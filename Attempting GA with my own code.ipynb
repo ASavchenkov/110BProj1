{
 "cells": [
  {
   "cell_type": "code",
   "execution_count": 10,
   "metadata": {},
   "outputs": [],
   "source": [
    "import numpy as np\n",
    "import pandas as pd\n",
    "random.seed()\n",
    "\n",
    "def fitness(candidate, solution):\n",
    "    diff = (candidate - solution)\n",
    "    fitness = np.sum(np.where(diff > 0.5, 1, 0))\n",
    "    return fitness\n",
    "\n",
    "def ga_solver(quiz):\n",
    "    Nc = 100\n",
    "    Ne = int(0.05*Nc)\n",
    "    Ng = 1000\n",
    "    Nm = 0\n",
    "    \n",
    "    phi = 0\n",
    "    sigma = 1\n",
    "    mutation_rate = 0.06\n",
    "    \n",
    "    Nd = 9\n",
    "    for i in Nc:\n",
    "        candidates[i] = np.random.randint(1, 10, (Nd,Nd))\n",
    "         for row in range(0, Nd):\n",
    "            for column in range(0, Nd):\n",
    "                for value in range(1, 10):\n",
    "                    if((candidates[i](row,column) == 0) and not (candidates[i](:,column) or given.is_block_duplicate(row, column, value) or given.is_row_duplicate(row, value))):\n",
    "    \n",
    "    \n",
    "    \n"
   ]
  },
  {
   "cell_type": "code",
   "execution_count": null,
   "metadata": {},
   "outputs": [],
   "source": []
  }
 ],
 "metadata": {
  "kernelspec": {
   "display_name": "Python 3",
   "language": "python",
   "name": "python3"
  },
  "language_info": {
   "codemirror_mode": {
    "name": "ipython",
    "version": 3
   },
   "file_extension": ".py",
   "mimetype": "text/x-python",
   "name": "python",
   "nbconvert_exporter": "python",
   "pygments_lexer": "ipython3",
   "version": "3.6.5"
  }
 },
 "nbformat": 4,
 "nbformat_minor": 2
}
