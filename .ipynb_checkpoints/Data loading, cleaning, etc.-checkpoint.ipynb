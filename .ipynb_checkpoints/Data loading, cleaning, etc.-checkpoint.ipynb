{
 "cells": [
  {
   "cell_type": "code",
   "execution_count": 1,
   "metadata": {
    "scrolled": true
   },
   "outputs": [
    {
     "name": "stdout",
     "output_type": "stream",
     "text": [
      "['.git', '.gitignore', '.ipynb_checkpoints', 'A few attempts at Optimization.ipynb', 'Data loading, cleaning, etc..ipynb', 'project-1-sudoku-challenge.zip.REMOVED.git-id', 'README.md', 'README.txt']\n"
     ]
    }
   ],
   "source": [
    "import os\n",
    "print(os.listdir(r\"C:\\Users\\cmebr\\OneDrive\\Documents\\GitHub\\110BProj1\"))"
   ]
  },
  {
   "cell_type": "code",
   "execution_count": 2,
   "metadata": {},
   "outputs": [],
   "source": [
    "import numpy as np # linear algebra\n",
    "import pandas as pd # data processing, CSV file I/O (e.g. pd.read_csv)"
   ]
  },
  {
   "cell_type": "code",
   "execution_count": 5,
   "metadata": {},
   "outputs": [],
   "source": [
    "data = pd.read_csv(r\"C:\\Users\\cmebr\\Desktop\\110BProj1\\large1.csv\")"
   ]
  },
  {
   "cell_type": "code",
   "execution_count": 6,
   "metadata": {},
   "outputs": [
    {
     "data": {
      "text/html": [
       "<div>\n",
       "<style scoped>\n",
       "    .dataframe tbody tr th:only-of-type {\n",
       "        vertical-align: middle;\n",
       "    }\n",
       "\n",
       "    .dataframe tbody tr th {\n",
       "        vertical-align: top;\n",
       "    }\n",
       "\n",
       "    .dataframe thead th {\n",
       "        text-align: right;\n",
       "    }\n",
       "</style>\n",
       "<table border=\"1\" class=\"dataframe\">\n",
       "  <thead>\n",
       "    <tr style=\"text-align: right;\">\n",
       "      <th></th>\n",
       "      <th>quizzes</th>\n",
       "      <th>solutions</th>\n",
       "    </tr>\n",
       "  </thead>\n",
       "  <tbody>\n",
       "    <tr>\n",
       "      <th>0</th>\n",
       "      <td>0000000000000000085070100200000000000300060000...</td>\n",
       "      <td>4267581939132645785873194268541327691329768456...</td>\n",
       "    </tr>\n",
       "    <tr>\n",
       "      <th>1</th>\n",
       "      <td>0000000000000000105000302000070000000030506204...</td>\n",
       "      <td>9862154733246879155714392686573928418137546294...</td>\n",
       "    </tr>\n",
       "    <tr>\n",
       "      <th>2</th>\n",
       "      <td>0000000000000000246003080700000000000050200983...</td>\n",
       "      <td>5794621831837956246243185794628397157156243983...</td>\n",
       "    </tr>\n",
       "    <tr>\n",
       "      <th>3</th>\n",
       "      <td>0000000000000000361028000000750400000000019400...</td>\n",
       "      <td>4563178297894251361328964579752486138236719456...</td>\n",
       "    </tr>\n",
       "    <tr>\n",
       "      <th>4</th>\n",
       "      <td>0000000000000000700340900210030400000978000000...</td>\n",
       "      <td>9782164531263549785347986212831457696978321454...</td>\n",
       "    </tr>\n",
       "  </tbody>\n",
       "</table>\n",
       "</div>"
      ],
      "text/plain": [
       "                                             quizzes  \\\n",
       "0  0000000000000000085070100200000000000300060000...   \n",
       "1  0000000000000000105000302000070000000030506204...   \n",
       "2  0000000000000000246003080700000000000050200983...   \n",
       "3  0000000000000000361028000000750400000000019400...   \n",
       "4  0000000000000000700340900210030400000978000000...   \n",
       "\n",
       "                                           solutions  \n",
       "0  4267581939132645785873194268541327691329768456...  \n",
       "1  9862154733246879155714392686573928418137546294...  \n",
       "2  5794621831837956246243185794628397157156243983...  \n",
       "3  4563178297894251361328964579752486138236719456...  \n",
       "4  9782164531263549785347986212831457696978321454...  "
      ]
     },
     "execution_count": 6,
     "metadata": {},
     "output_type": "execute_result"
    }
   ],
   "source": [
    "data.head()"
   ]
  },
  {
   "cell_type": "code",
   "execution_count": 10,
   "metadata": {},
   "outputs": [
    {
     "name": "stdout",
     "output_type": "stream",
     "text": [
      "[[0 0 0 0 0 0 0 0 0]\n",
      " [0 0 0 0 0 0 0 0 8]\n",
      " [5 0 7 0 1 0 0 2 0]\n",
      " [0 0 0 0 0 0 0 0 0]\n",
      " [0 3 0 0 0 6 0 0 0]\n",
      " [0 0 9 0 0 5 2 3 0]\n",
      " [0 6 0 0 0 3 0 1 0]\n",
      " [0 0 1 8 0 0 0 5 4]\n",
      " [0 4 0 6 9 0 0 0 7]]\n",
      "[[4 2 6 7 5 8 1 9 3]\n",
      " [9 1 3 2 6 4 5 7 8]\n",
      " [5 8 7 3 1 9 4 2 6]\n",
      " [8 5 4 1 3 2 7 6 9]\n",
      " [1 3 2 9 7 6 8 4 5]\n",
      " [6 7 9 4 8 5 2 3 1]\n",
      " [7 6 8 5 4 3 9 1 2]\n",
      " [3 9 1 8 2 7 6 5 4]\n",
      " [2 4 5 6 9 1 3 8 7]]\n",
      "[[4 2 6 7 5 8 1 9 3 9 1 3 2 6 4 5 7 8 5 8 7 3 1 9 4 2 6 8 5 4 1 3 2 7 6 9\n",
      "  1 3 2 9 7 6 8 4 5 6 7 9 4 8 5 2 3 1 7 6 8 5 4 3 9 1 2 3 9 1 8 2 7 6 5 4\n",
      "  2 4 5 6 9 1 3 8 7]]\n"
     ]
    }
   ],
   "source": [
    "sudoku0 = data['quizzes'][0]\n",
    "sol0 = data['solutions'][0]\n",
    "print(np.reshape([int(c) for c in sudoku0], (9,9)))\n",
    "print(np.reshape([int(c) for c in sol0], (9,9)))\n",
    "print(np.reshape([int(c) for c in sol0], (1,9**2)))"
   ]
  },
  {
   "cell_type": "markdown",
   "metadata": {},
   "source": [
    "That's about it really. Now for some implmentations."
   ]
  }
 ],
 "metadata": {
  "kernelspec": {
   "display_name": "Python 3",
   "language": "python",
   "name": "python3"
  },
  "language_info": {
   "codemirror_mode": {
    "name": "ipython",
    "version": 3
   },
   "file_extension": ".py",
   "mimetype": "text/x-python",
   "name": "python",
   "nbconvert_exporter": "python",
   "pygments_lexer": "ipython3",
   "version": "3.6.5"
  }
 },
 "nbformat": 4,
 "nbformat_minor": 2
}
